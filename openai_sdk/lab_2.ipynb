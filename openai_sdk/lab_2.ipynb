{
 "cells": [
  {
   "cell_type": "code",
   "execution_count": 32,
   "metadata": {},
   "outputs": [],
   "source": [
    "from dotenv import load_dotenv\n",
    "from agents import Agent, Runner, trace, function_tool, AsyncOpenAI, OpenAIChatCompletionsModel, GuardrailFunctionOutput, input_guardrail, output_guardrail\n",
    "from typing import Dict\n",
    "import sendgrid\n",
    "import os\n",
    "from sendgrid.helpers.mail import Mail, Email, To, Content\n",
    "from openai.types.responses import ResponseTextDeltaEvent\n",
    "import asyncio\n",
    "from pydantic import BaseModel\n"
   ]
  },
  {
   "cell_type": "code",
   "execution_count": 2,
   "metadata": {},
   "outputs": [
    {
     "data": {
      "text/plain": [
       "True"
      ]
     },
     "execution_count": 2,
     "metadata": {},
     "output_type": "execute_result"
    }
   ],
   "source": [
    "load_dotenv(override=True)"
   ]
  },
  {
   "cell_type": "markdown",
   "metadata": {},
   "source": [
    "### Step 1: Agent Workflow"
   ]
  },
  {
   "cell_type": "code",
   "execution_count": 3,
   "metadata": {},
   "outputs": [],
   "source": [
    "instructions1 = \"You are a sales agent working for ComplAI, \\\n",
    "    a company that provides a SaaS tool for ensuring SOC2 compliance and preparing for audits, powered by AI. \\\n",
    "    You write professional, serious cold email.\"\n",
    "\n",
    "instructions2 = \"You are a humorous, engaging sales agent working for ComplAI, \\\n",
    "    a company that provides a SaaS tool for ensursing SOC2 compliance and preparing for audits, powered by AI. \\\n",
    "    You write witty, engaging cold emails that are likely to get a response.\"\n",
    "\n",
    "instructions3 = \"You are a busy sales agent working for ComplAI, \\\n",
    "    a company that provides a SaaS tool for ensuring SOC2 compliance and preparing for audits, powered by AI. \\\n",
    "    You write concise, to the point cold  emails.\""
   ]
  },
  {
   "cell_type": "code",
   "execution_count": 4,
   "metadata": {},
   "outputs": [],
   "source": [
    "google_api_key = os.getenv('GOOGLE_API_KEY')\n",
    "GEMINI_BASE_URL = \"https://generativelanguage.googleapis.com/v1beta/openai/\"   \n",
    "gemini_client = AsyncOpenAI(base_url=GEMINI_BASE_URL, api_key=google_api_key)\n",
    "gemini_model = OpenAIChatCompletionsModel(model=\"gemini-2.0-flash\", openai_client=gemini_client)\n"
   ]
  },
  {
   "cell_type": "code",
   "execution_count": 9,
   "metadata": {},
   "outputs": [],
   "source": [
    "sales_agent1 = Agent(\n",
    "    name = 'Professional Sales Agent',\n",
    "    instructions=instructions1,\n",
    "    model=gemini_model\n",
    ")\n",
    "\n",
    "sales_agent2 = Agent(\n",
    "    name='Engaging Sales Agent',\n",
    "    instructions=instructions2,\n",
    "    model=gemini_model\n",
    ")\n",
    "\n",
    "sales_agent3 = Agent(\n",
    "    name = 'Busy Sales Agent',\n",
    "    instructions=instructions3,\n",
    "    model=gemini_model\n",
    ")"
   ]
  },
  {
   "cell_type": "code",
   "execution_count": 9,
   "metadata": {},
   "outputs": [
    {
     "name": "stdout",
     "output_type": "stream",
     "text": [
      "Subject: Streamline SOC 2 Compliance & Audit Prep with ComplAI\n",
      "\n",
      "Dear [Name],\n",
      "\n",
      "Maintaining SOC 2 compliance can be a significant drain on resources, often requiring complex manual processes and posing a constant challenge for growing companies. At ComplAI, we understand these hurdles and offer a solution designed to simplify and accelerate your path to achieving and maintaining SOC 2 compliance.\n",
      "\n",
      "ComplAI is an AI-powered SaaS platform built specifically for streamlining SOC 2 compliance and audit preparation. Our platform provides:\n",
      "\n",
      "*   **Automated Evidence Collection:** Eliminate manual data gathering with our automated evidence collection capabilities, ensuring continuous compliance.\n",
      "*   **Gap Analysis & Remediation Guidance:** Identify areas of non-compliance and receive actionable recommendations to close security gaps quickly and efficiently.\n",
      "*   **Simplified Audit Preparation:** Centralize documentation, automate report generation, and facilitate seamless communication with auditors, significantly reducing audit fatigue.\n",
      "*   **Continuous Monitoring:** Proactively monitor your security posture and receive real-time alerts to address potential compliance issues before they become problems.\n",
      "\n",
      "We believe ComplAI can significantly benefit [Company Name] by reducing the time and cost associated with SOC 2 compliance, allowing your team to focus on core business objectives.\n",
      "\n",
      "Would you be available for a brief 15-minute call next week to discuss your current SOC 2 compliance efforts and how ComplAI can help?\n",
      "\n",
      "Thank you for your time and consideration.\n",
      "\n",
      "Sincerely,\n",
      "\n",
      "[Your Name]\n",
      "\n",
      "Sales Agent | ComplAI\n",
      "\n",
      "[Your Phone Number]\n",
      "\n",
      "[Your Email Address]\n",
      "\n",
      "[ComplAI Website]\n"
     ]
    }
   ],
   "source": [
    "result = Runner.run_streamed(sales_agent1, input='Write a cold sales email')\n",
    "async for event in result.stream_events():\n",
    "    if event.type == 'raw_response_event' and isinstance(event.data, ResponseTextDeltaEvent):\n",
    "        print(event.data.delta, end='', flush=True)"
   ]
  },
  {
   "cell_type": "code",
   "execution_count": 11,
   "metadata": {},
   "outputs": [
    {
     "name": "stdout",
     "output_type": "stream",
     "text": [
      "Subject: Streamline SOC 2 Compliance & Audit Prep with ComplAI\n",
      "\n",
      "Dear [Recipient Name],\n",
      "\n",
      "Maintaining SOC 2 compliance can be a significant drain on resources, often requiring manual processes and complex coordination. At ComplAI, we understand the challenges involved in achieving and maintaining this crucial certification.\n",
      "\n",
      "ComplAI offers an AI-powered SaaS solution designed to simplify and automate your SOC 2 compliance journey. Our platform helps you:\n",
      "\n",
      "*   **Automate Evidence Collection:** Continuously gather evidence from various sources, reducing manual effort and ensuring comprehensive coverage.\n",
      "*   **Identify and Remediate Gaps:** Leverage AI-powered analysis to proactively identify potential compliance gaps and receive actionable recommendations for remediation.\n",
      "*   **Streamline Audit Preparation:** Prepare for audits with confidence using our organized documentation and automated reporting features, minimizing disruption to your team.\n",
      "*   **Ensure Continuous Compliance:** Monitor your compliance posture in real-time and proactively address emerging risks.\n",
      "\n",
      "[Optional: Briefly mention a relevant benefit specific to the recipient's industry or company size - e.g., \"For companies like [Company Type] we've seen a [Percentage]% reduction in audit preparation time.\"]\n",
      "\n",
      "I would be happy to schedule a brief call to discuss your current SOC 2 compliance processes and demonstrate how ComplAI can help you achieve significant efficiencies and reduce risk.\n",
      "\n",
      "Are you available for a quick chat next week?\n",
      "\n",
      "Sincerely,\n",
      "\n",
      "[Your Name]\n",
      "\n",
      "Sales Agent | ComplAI\n",
      "\n",
      "[Your Phone Number]\n",
      "\n",
      "[Your Email Address]\n",
      "\n",
      "[Your Company Website]\n",
      "\n",
      "\n",
      "\n",
      "Subject: SOC 2 Compliance Got You Feeling Like a Hamster on a Wheel? (We Can Help!)\n",
      "\n",
      "Hey [Prospect Name],\n",
      "\n",
      "Let's be honest, dealing with SOC 2 compliance can feel a lot like a hamster on a wheel: endless spinning, a whole lot of effort, and ultimately, not a whole lot of forward progress. You're probably drowning in spreadsheets, chasing down evidence like a caffeinated squirrel, and desperately trying to remember what \"Type II\" actually means. (Don't worry, we've all been there.)\n",
      "\n",
      "That's where ComplAI comes in, your friendly neighborhood AI-powered SOC 2 superhero.\n",
      "\n",
      "We're like the Tony Stark of compliance, using cutting-edge technology to:\n",
      "\n",
      "*   **Automate the soul-crushing stuff:** Say goodbye to manual evidence gathering! Our AI identifies gaps, suggests fixes, and practically begs evidence to submit itself.\n",
      "*   **Make audit prep less painful than a root canal:** We streamline the entire audit process, so you can focus on, you know, building awesome stuff.\n",
      "*   **Keep you compliant on autopilot:** Think of us as your SOC 2 co-pilot, ensuring you're always flying high above the stormy seas of non-compliance.\n",
      "\n",
      "Basically, we turn the whole SOC 2 ordeal from a stressful slog into a walk in the park... a park filled with compliant unicorns and rainbows, naturally.\n",
      "\n",
      "Curious to see how ComplAI can help you escape the hamster wheel and finally conquer SOC 2?\n",
      "\n",
      "Hit reply, and let's schedule a quick chat. No pressure, just a friendly conversation about how we can save you time, money, and maybe even a few grey hairs.\n",
      "\n",
      "Best,\n",
      "\n",
      "[Your Name]\n",
      "\n",
      "Chief ComplAIliance Officer (Okay, maybe not *chief*, but definitely enthusiastic!)\n",
      "\n",
      "ComplAI - SOC 2 Compliance, Supercharged.\n",
      "\n",
      "[Your Website]\n",
      "\n",
      "\n",
      "\n",
      "Subject: SOC2 Compliance Headache? (ComplAI Can Help)\n",
      "\n",
      "Hi [Name],\n",
      "\n",
      "Struggling with SOC2 compliance? ComplAI uses AI to automate evidence collection, streamline audits, and significantly reduce the time & cost associated with achieving and maintaining compliance.\n",
      "\n",
      "Quick question: How much time is your team currently spending on SOC2?\n",
      "\n",
      "Let's chat for 15 minutes to see if ComplAI is a fit.\n",
      "\n",
      "Best,\n",
      "\n",
      "[Your Name] | ComplAI\n",
      "\n",
      "\n",
      "\n"
     ]
    }
   ],
   "source": [
    "message  = 'write a cold sales email'\n",
    "with trace('Parallel cold emails'):\n",
    "    results = await asyncio.gather(\n",
    "        Runner.run(sales_agent1, message),\n",
    "        Runner.run(sales_agent2, message),\n",
    "        Runner.run(sales_agent3, message)\n",
    "    )\n",
    "\n",
    "outputs = [result.final_output for result in results]\n",
    "for output in outputs:\n",
    "    print(output + '\\n\\n')"
   ]
  },
  {
   "cell_type": "code",
   "execution_count": 27,
   "metadata": {},
   "outputs": [],
   "source": [
    "sales_picker = Agent(\n",
    "    name='sales_picker',\n",
    "    instructions='You pick the best cold sales email from the given options. \\\n",
    "         Imagine you are a customer and pick the one you are most likely to respond to. \\\n",
    "         Do not give and explanation; reply with the selected eamil only. ',\n",
    "    model=gemini_model        \n",
    ")"
   ]
  },
  {
   "cell_type": "code",
   "execution_count": 28,
   "metadata": {},
   "outputs": [
    {
     "name": "stdout",
     "output_type": "stream",
     "text": [
      "Best sales email: \n",
      "Subject: Streamline SOC 2 Compliance & Audit Prep with AI - ComplAI\n",
      "\n",
      "Dear [Prospect Name],\n",
      "\n",
      "Maintaining SOC 2 compliance can be a significant drain on resources, diverting your team's focus from core business objectives. I'm reaching out from ComplAI, a company dedicated to simplifying and accelerating the entire SOC 2 journey through the power of AI.\n",
      "\n",
      "ComplAI is a SaaS platform that helps organizations like yours:\n",
      "\n",
      "*   **Automate Evidence Collection:** Our AI-powered system automatically gathers and organizes the evidence needed for SOC 2 audits, significantly reducing manual effort and errors.\n",
      "*   **Identify & Remediate Gaps:** Proactively identify potential compliance gaps with AI-driven risk assessments and receive actionable recommendations for remediation.\n",
      "*   **Simplify Audit Preparation:** Generate audit-ready reports and documentation with just a few clicks, saving valuable time and resources.\n",
      "*   **Continuous Monitoring:** Maintain ongoing compliance with real-time monitoring and alerts, ensuring you're always audit-ready.\n",
      "\n",
      "We understand that your organization, [Prospect Company], is committed to [Mention something specific about their commitment to security, compliance, or data privacy - if available. If not, remove this sentence]. ComplAI can help you achieve your compliance goals more efficiently and effectively.\n",
      "\n",
      "Would you be open to a brief 15-minute call next week to discuss how ComplAI can help streamline your SOC 2 compliance efforts?\n",
      "\n",
      "Thank you for your time and consideration.\n",
      "\n",
      "Sincerely,\n",
      "\n",
      "[Your Name]\n",
      "\n",
      "Sales Agent | ComplAI\n",
      "\n",
      "[Your Phone Number]\n",
      "\n",
      "[Your Email Address]\n",
      "\n",
      "[ComplAI Website Link]\n",
      "\n"
     ]
    }
   ],
   "source": [
    "message = 'Write a cold sales email.'\n",
    "with trace('Select from sales people'):\n",
    "    results = await asyncio.gather(\n",
    "        Runner.run(sales_agent1, message),\n",
    "        Runner.run(sales_agent2, message),\n",
    "        Runner.run(sales_agent3, message)\n",
    "    )\n",
    "    outputs = [result.final_output for result in results]\n",
    "    emails = 'Cold sales:\\n\\n'.join(outputs)\n",
    "    best = await Runner.run(sales_picker, emails)\n",
    "    print(f\"Best sales email: \\n{best.final_output}\")"
   ]
  },
  {
   "cell_type": "markdown",
   "metadata": {},
   "source": [
    "### Step 2 and 3: Tools and Agent Interactions"
   ]
  },
  {
   "cell_type": "code",
   "execution_count": 10,
   "metadata": {},
   "outputs": [],
   "source": [
    "@function_tool\n",
    "def send_email(body:str):\n",
    "    \"\"\" Send out an email with the given body to all sales prospects\"\"\"\n",
    "    sg = sendgrid.SendGridAPIClient(api_key=os.getenv('SENDGRID_KEY'))\n",
    "    from_email = Email('dileep9968@gmail.com')\n",
    "    to_email = To('dileep.opd20016@iiitd.ac.in')\n",
    "    content = Content('Text/Plain', body)\n",
    "    mail  = Mail(from_email, to_email, 'Sales email', content).get()\n",
    "    response = sg.client.mail.send.post(request_body=mail)\n",
    "    return {'status': 'success'}"
   ]
  },
  {
   "cell_type": "markdown",
   "metadata": {},
   "source": [
    "#### This has automatically been converted into a tool with the boilerplate  json created"
   ]
  },
  {
   "cell_type": "code",
   "execution_count": 11,
   "metadata": {},
   "outputs": [
    {
     "data": {
      "text/plain": [
       "FunctionTool(name='send_email', description='Send out an email with the given body to all sales prospects', params_json_schema={'properties': {'body': {'title': 'Body', 'type': 'string'}}, 'required': ['body'], 'title': 'send_email_args', 'type': 'object', 'additionalProperties': False}, on_invoke_tool=<function function_tool.<locals>._create_function_tool.<locals>._on_invoke_tool at 0x1051a5080>, strict_json_schema=True, is_enabled=True)"
      ]
     },
     "execution_count": 11,
     "metadata": {},
     "output_type": "execute_result"
    }
   ],
   "source": [
    "send_email"
   ]
  },
  {
   "cell_type": "markdown",
   "metadata": {},
   "source": [
    "#### You can also convert an agent into a tool"
   ]
  },
  {
   "cell_type": "code",
   "execution_count": 12,
   "metadata": {},
   "outputs": [
    {
     "data": {
      "text/plain": [
       "FunctionTool(name='sales_agent1', description='write a cold sales email', params_json_schema={'properties': {'input': {'title': 'Input', 'type': 'string'}}, 'required': ['input'], 'title': 'sales_agent1_args', 'type': 'object', 'additionalProperties': False}, on_invoke_tool=<function function_tool.<locals>._create_function_tool.<locals>._on_invoke_tool at 0x140183a60>, strict_json_schema=True, is_enabled=True)"
      ]
     },
     "execution_count": 12,
     "metadata": {},
     "output_type": "execute_result"
    }
   ],
   "source": [
    "tool1 = sales_agent1.as_tool(tool_name='sales_agent1', tool_description='write a cold sales email')\n",
    "tool1"
   ]
  },
  {
   "cell_type": "code",
   "execution_count": 13,
   "metadata": {},
   "outputs": [],
   "source": [
    "# We can gather all the tools together\n",
    "# A tool for each of our 3 email-writing agents\n",
    "# And a tool for our function to send emails"
   ]
  },
  {
   "cell_type": "code",
   "execution_count": 14,
   "metadata": {},
   "outputs": [
    {
     "data": {
      "text/plain": [
       "[FunctionTool(name='sales_agent1', description='Write a cold sales email', params_json_schema={'properties': {'input': {'title': 'Input', 'type': 'string'}}, 'required': ['input'], 'title': 'sales_agent1_args', 'type': 'object', 'additionalProperties': False}, on_invoke_tool=<function function_tool.<locals>._create_function_tool.<locals>._on_invoke_tool at 0x1401834c0>, strict_json_schema=True, is_enabled=True),\n",
       " FunctionTool(name='sales_agent2', description='Write a cold sales email', params_json_schema={'properties': {'input': {'title': 'Input', 'type': 'string'}}, 'required': ['input'], 'title': 'sales_agent2_args', 'type': 'object', 'additionalProperties': False}, on_invoke_tool=<function function_tool.<locals>._create_function_tool.<locals>._on_invoke_tool at 0x1401837e0>, strict_json_schema=True, is_enabled=True),\n",
       " FunctionTool(name='sales_agent3', description='Write a cold sales email', params_json_schema={'properties': {'input': {'title': 'Input', 'type': 'string'}}, 'required': ['input'], 'title': 'sales_agent3_args', 'type': 'object', 'additionalProperties': False}, on_invoke_tool=<function function_tool.<locals>._create_function_tool.<locals>._on_invoke_tool at 0x14014a660>, strict_json_schema=True, is_enabled=True),\n",
       " FunctionTool(name='send_email', description='Send out an email with the given body to all sales prospects', params_json_schema={'properties': {'body': {'title': 'Body', 'type': 'string'}}, 'required': ['body'], 'title': 'send_email_args', 'type': 'object', 'additionalProperties': False}, on_invoke_tool=<function function_tool.<locals>._create_function_tool.<locals>._on_invoke_tool at 0x1051a5080>, strict_json_schema=True, is_enabled=True)]"
      ]
     },
     "execution_count": 14,
     "metadata": {},
     "output_type": "execute_result"
    }
   ],
   "source": [
    "description = 'Write a cold sales email'\n",
    "tool1 = sales_agent1.as_tool(tool_name='sales_agent1', tool_description=description)\n",
    "tool2 = sales_agent2.as_tool(tool_name='sales_agent2', tool_description=description)\n",
    "tool3 = sales_agent3.as_tool(tool_name='sales_agent3', tool_description=description)\n",
    "\n",
    "tools = [tool1, tool2, tool3, send_email]\n",
    "tools \n"
   ]
  },
  {
   "cell_type": "code",
   "execution_count": 15,
   "metadata": {},
   "outputs": [
    {
     "name": "stderr",
     "output_type": "stream",
     "text": [
      "OPENAI_API_KEY is not set, skipping trace export\n",
      "OPENAI_API_KEY is not set, skipping trace export\n",
      "OPENAI_API_KEY is not set, skipping trace export\n"
     ]
    },
    {
     "name": "stderr",
     "output_type": "stream",
     "text": [
      "OPENAI_API_KEY is not set, skipping trace export\n",
      "OPENAI_API_KEY is not set, skipping trace export\n",
      "OPENAI_API_KEY is not set, skipping trace export\n",
      "OPENAI_API_KEY is not set, skipping trace export\n",
      "OPENAI_API_KEY is not set, skipping trace export\n",
      "OPENAI_API_KEY is not set, skipping trace export\n",
      "OPENAI_API_KEY is not set, skipping trace export\n",
      "OPENAI_API_KEY is not set, skipping trace export\n",
      "OPENAI_API_KEY is not set, skipping trace export\n",
      "OPENAI_API_KEY is not set, skipping trace export\n",
      "OPENAI_API_KEY is not set, skipping trace export\n",
      "OPENAI_API_KEY is not set, skipping trace export\n",
      "OPENAI_API_KEY is not set, skipping trace export\n",
      "OPENAI_API_KEY is not set, skipping trace export\n",
      "OPENAI_API_KEY is not set, skipping trace export\n",
      "OPENAI_API_KEY is not set, skipping trace export\n",
      "OPENAI_API_KEY is not set, skipping trace export\n",
      "OPENAI_API_KEY is not set, skipping trace export\n",
      "OPENAI_API_KEY is not set, skipping trace export\n",
      "OPENAI_API_KEY is not set, skipping trace export\n"
     ]
    }
   ],
   "source": [
    "# Now it's time for our sales manager - our planning agent\n",
    "instructions = 'You are a sales manager working for ComplAI. You use the tools given to you to generate cold sales emails. \\\n",
    "    You never generate sales emails yourself; you always use the tools. \\\n",
    "    You try all 3 sales_agent tools once before choosing the best one. \\\n",
    "    You pick the single best email and use the send_email tool to send the best email (and only the best email) to the user.'\n",
    "\n",
    "sales_manager = Agent(name = 'Sales Manager', instructions=instructions, tools = tools, model = gemini_model)\n",
    "\n",
    "message = \"Send a cold sales email addressed to 'Dear CEO'\"\n",
    "\n",
    "with trace('Sales manager'):\n",
    "    result = await Runner.run(sales_manager, message)"
   ]
  },
  {
   "cell_type": "markdown",
   "metadata": {},
   "source": [
    "#### Handoffs represent a way an agent can delegate to an agent, passing control to it\n",
    "* 1. Handoffs and Agents-as-tool are similar\n",
    "* 2. In both cases, an Agent can collaborate with another Agent\n",
    "* 3. With tools, control passes back\n",
    "* 4. With handoffs, control passes across"
   ]
  },
  {
   "cell_type": "code",
   "execution_count": 16,
   "metadata": {},
   "outputs": [],
   "source": [
    "subject_instructions = \"You can write a subject for a cold sales email. \\\n",
    "    You are given a message and you need to write a subject for an email that is likely to get a response. \"\n",
    "html_instructions = 'You can convert a text email body to an HTML email body. \\\n",
    "    You are gievn a text email body with might have some markdown \\\n",
    "    and you need to convert it to an HTML email body with simple, clear, compelling layout and design.'\n",
    "\n",
    "subject_writer = Agent(name = 'Email subject writer', instructions=subject_instructions, model = gemini_model)\n",
    "subject_tool = subject_writer.as_tool(tool_name='subject_writer', tool_description='write a subject for a cold sales email')\n",
    "\n",
    "html_converter = Agent(name = 'HTML email body conveter', instructions=html_instructions, model=gemini_model)\n",
    "html_tool = html_converter.as_tool(tool_name='html_conveter', tool_description='Convert a text email body to an HTML email body')"
   ]
  },
  {
   "cell_type": "code",
   "execution_count": 21,
   "metadata": {},
   "outputs": [],
   "source": [
    "@function_tool\n",
    "def send_html_email(subject:str, html_body: str)->Dict[str, str]:\n",
    "    \"\"\" Send out an email with the given subject and HTML body to all sales prospects \"\"\"\n",
    "    sg = sendgrid.SendGridAPIClient(api_key = os.getenv('SENDGRID_KEY'))\n",
    "    from_email = Email('dileep9968@gmail.com')\n",
    "    to_email = To('dileep.sahu@paytm.com')\n",
    "    content = Content('text/html', html_body)\n",
    "    mail = Mail(from_email, to_email, subject, content).get()\n",
    "    response = sg.client.mail.send.post(request_body=mail)\n",
    "    return {'status':'success'}"
   ]
  },
  {
   "cell_type": "code",
   "execution_count": 22,
   "metadata": {},
   "outputs": [
    {
     "data": {
      "text/plain": [
       "[FunctionTool(name='subject_writer', description='write a subject for a cold sales email', params_json_schema={'properties': {'input': {'title': 'Input', 'type': 'string'}}, 'required': ['input'], 'title': 'subject_writer_args', 'type': 'object', 'additionalProperties': False}, on_invoke_tool=<function function_tool.<locals>._create_function_tool.<locals>._on_invoke_tool at 0x140180ae0>, strict_json_schema=True, is_enabled=True),\n",
       " FunctionTool(name='html_conveter', description='Convert a text email body to an HTML email body', params_json_schema={'properties': {'input': {'title': 'Input', 'type': 'string'}}, 'required': ['input'], 'title': 'html_conveter_args', 'type': 'object', 'additionalProperties': False}, on_invoke_tool=<function function_tool.<locals>._create_function_tool.<locals>._on_invoke_tool at 0x140181260>, strict_json_schema=True, is_enabled=True),\n",
       " FunctionTool(name='send_html_email', description='Send out an email with the given subject and HTML body to all sales prospects', params_json_schema={'properties': {'subject': {'title': 'Subject', 'type': 'string'}, 'html_body': {'title': 'Html Body', 'type': 'string'}}, 'required': ['subject', 'html_body'], 'title': 'send_html_email_args', 'type': 'object', 'additionalProperties': False}, on_invoke_tool=<function function_tool.<locals>._create_function_tool.<locals>._on_invoke_tool at 0x1400b0f40>, strict_json_schema=True, is_enabled=True)]"
      ]
     },
     "execution_count": 22,
     "metadata": {},
     "output_type": "execute_result"
    }
   ],
   "source": [
    "tools = [subject_tool, html_tool, send_html_email]\n",
    "tools"
   ]
  },
  {
   "cell_type": "code",
   "execution_count": 35,
   "metadata": {},
   "outputs": [],
   "source": [
    "instructions = \"You are an email formatter and sender. You receive the body of an email to be sent. \\\n",
    "    You first use the subject_writer tool to write a subject for the email, then use the html_conveter tool to convert the body to HTML. \\\n",
    "    Finally, you use the send_html_email tool to send the eamil with the subject and HTML body.\"\n",
    "\n",
    "emailer_agent = Agent(\n",
    "    name = 'Email Manager',\n",
    "    instructions=instructions,\n",
    "    tools = tools,\n",
    "    model = gemini_model,\n",
    "    handoff_description='Convert and email to HTML and send it'\n",
    ")"
   ]
  },
  {
   "cell_type": "code",
   "execution_count": 36,
   "metadata": {},
   "outputs": [
    {
     "name": "stdout",
     "output_type": "stream",
     "text": [
      "[Agent(name='Email Manager', instructions='You are an email formatter and sender. You receive the body of an email to be sent.     You first use the subject_writer tool to write a subject for the email, then use the html_conveter tool to convert the body to HTML.     Finally, you use the send_html_email tool to send the eamil with the subject and HTML body.', handoff_description='Convert and email to HTML and send it', handoffs=[], model=<agents.models.openai_chatcompletions.OpenAIChatCompletionsModel object at 0x107b24b60>, model_settings=ModelSettings(temperature=None, top_p=None, frequency_penalty=None, presence_penalty=None, tool_choice=None, parallel_tool_calls=None, truncation=None, max_tokens=None, reasoning=None, metadata=None, store=None, include_usage=None, extra_query=None, extra_body=None, extra_headers=None), tools=[FunctionTool(name='sales_agent1', description='Write a cold sales email', params_json_schema={'properties': {'input': {'title': 'Input', 'type': 'string'}}, 'required': ['input'], 'title': 'sales_agent1_args', 'type': 'object', 'additionalProperties': False}, on_invoke_tool=<function function_tool.<locals>._create_function_tool.<locals>._on_invoke_tool at 0x1401834c0>, strict_json_schema=True, is_enabled=True), FunctionTool(name='sales_agent2', description='Write a cold sales email', params_json_schema={'properties': {'input': {'title': 'Input', 'type': 'string'}}, 'required': ['input'], 'title': 'sales_agent2_args', 'type': 'object', 'additionalProperties': False}, on_invoke_tool=<function function_tool.<locals>._create_function_tool.<locals>._on_invoke_tool at 0x1401837e0>, strict_json_schema=True, is_enabled=True), FunctionTool(name='sales_agent3', description='Write a cold sales email', params_json_schema={'properties': {'input': {'title': 'Input', 'type': 'string'}}, 'required': ['input'], 'title': 'sales_agent3_args', 'type': 'object', 'additionalProperties': False}, on_invoke_tool=<function function_tool.<locals>._create_function_tool.<locals>._on_invoke_tool at 0x14014a660>, strict_json_schema=True, is_enabled=True)], mcp_servers=[], mcp_config={}, input_guardrails=[], output_guardrails=[], output_type=None, hooks=None, tool_use_behavior='run_llm_again', reset_tool_choice=True)]\n"
     ]
    }
   ],
   "source": [
    "# Now we have 3 tools and 1 handoff\n",
    "tools = [tool1, tool2, tool3]\n",
    "handoffs = [emailer_agent]\n",
    "print(handoffs)"
   ]
  },
  {
   "cell_type": "code",
   "execution_count": 37,
   "metadata": {},
   "outputs": [],
   "source": [
    "sales_manager_instructions = \"You are a sales manager working for ComplAI. You use the tools given to you to generate cold sales email. \\\n",
    "    You never generate sales emails youself; you always use the tools. \\\n",
    "    You can use the tools multiple times if you're not satisfied with the results from the first try. \\\n",
    "    You select the single best email using you own judgement of which email will be most effective. \\\n",
    "    After picking the email, you handoff to the Email Manager agent to format and send the email.\"\n",
    "\n",
    "sales_manager = Agent(\n",
    "    name = 'Sales Manager',\n",
    "    instructions=sales_manager_instructions,\n",
    "    tools = tools,\n",
    "    handoffs=handoffs,\n",
    "    model=gemini_model\n",
    ")\n",
    "\n",
    "message = 'Send out a cold sales email addressed to Dear CEO from Alice'\n",
    "\n",
    "with trace('Automated SDR'):\n",
    "    result = await Runner.run(sales_manager, message)"
   ]
  },
  {
   "cell_type": "markdown",
   "metadata": {},
   "source": [
    "#### Check out the trace"
   ]
  },
  {
   "cell_type": "code",
   "execution_count": 38,
   "metadata": {},
   "outputs": [],
   "source": [
    "class NameCheckOutput(BaseModel):\n",
    "    is_name_in_message: bool \n",
    "    name : str\n",
    "\n",
    "guardrail_agent = Agent(\n",
    "    name = 'Name check',\n",
    "    instructions=\"Check if the user is including someone's personal name in what they want you to do.\",\n",
    "    output_type=NameCheckOutput,\n",
    "    model = gemini_model\n",
    ")"
   ]
  },
  {
   "cell_type": "code",
   "execution_count": 39,
   "metadata": {},
   "outputs": [],
   "source": [
    "@input_guardrail\n",
    "async def guardrail_against_name(ctx, agent, message):\n",
    "    result = await Runner.run(guardrail_agent, message, context=ctx.context) \n",
    "    is_name_in_message = result.final_output.is_name_in_message \n",
    "    return GuardrailFunctionOutput(output_info ={\"Found_name\": result.final_output}, tripwire_triggered=is_name_in_message)\n"
   ]
  },
  {
   "cell_type": "code",
   "execution_count": 42,
   "metadata": {},
   "outputs": [
    {
     "ename": "InputGuardrailTripwireTriggered",
     "evalue": "Guardrail InputGuardrail triggered tripwire",
     "output_type": "error",
     "traceback": [
      "\u001b[31m---------------------------------------------------------------------------\u001b[39m",
      "\u001b[31mInputGuardrailTripwireTriggered\u001b[39m           Traceback (most recent call last)",
      "\u001b[36mCell\u001b[39m\u001b[36m \u001b[39m\u001b[32mIn[42]\u001b[39m\u001b[32m, line 13\u001b[39m\n\u001b[32m     10\u001b[39m message = \u001b[33m\"\u001b[39m\u001b[33mSend out a cold sales email addressed to Dear CEO from Dileep\u001b[39m\u001b[33m\"\u001b[39m\n\u001b[32m     12\u001b[39m \u001b[38;5;28;01mwith\u001b[39;00m trace(\u001b[33m'\u001b[39m\u001b[33mProtected Automated SDR\u001b[39m\u001b[33m'\u001b[39m):\n\u001b[32m---> \u001b[39m\u001b[32m13\u001b[39m     result = \u001b[38;5;28;01mawait\u001b[39;00m Runner.run(careful_sales_manager, message)\n",
      "\u001b[36mFile \u001b[39m\u001b[32m~/Desktop/agentic/.venv/lib/python3.12/site-packages/agents/run.py:219\u001b[39m, in \u001b[36mRunner.run\u001b[39m\u001b[34m(cls, starting_agent, input, context, max_turns, hooks, run_config, previous_response_id)\u001b[39m\n\u001b[32m    214\u001b[39m logger.debug(\n\u001b[32m    215\u001b[39m     \u001b[33mf\u001b[39m\u001b[33m\"\u001b[39m\u001b[33mRunning agent \u001b[39m\u001b[38;5;132;01m{\u001b[39;00mcurrent_agent.name\u001b[38;5;132;01m}\u001b[39;00m\u001b[33m (turn \u001b[39m\u001b[38;5;132;01m{\u001b[39;00mcurrent_turn\u001b[38;5;132;01m}\u001b[39;00m\u001b[33m)\u001b[39m\u001b[33m\"\u001b[39m,\n\u001b[32m    216\u001b[39m )\n\u001b[32m    218\u001b[39m \u001b[38;5;28;01mif\u001b[39;00m current_turn == \u001b[32m1\u001b[39m:\n\u001b[32m--> \u001b[39m\u001b[32m219\u001b[39m     input_guardrail_results, turn_result = \u001b[38;5;28;01mawait\u001b[39;00m asyncio.gather(\n\u001b[32m    220\u001b[39m         \u001b[38;5;28mcls\u001b[39m._run_input_guardrails(\n\u001b[32m    221\u001b[39m             starting_agent,\n\u001b[32m    222\u001b[39m             starting_agent.input_guardrails\n\u001b[32m    223\u001b[39m             + (run_config.input_guardrails \u001b[38;5;129;01mor\u001b[39;00m []),\n\u001b[32m    224\u001b[39m             copy.deepcopy(\u001b[38;5;28minput\u001b[39m),\n\u001b[32m    225\u001b[39m             context_wrapper,\n\u001b[32m    226\u001b[39m         ),\n\u001b[32m    227\u001b[39m         \u001b[38;5;28mcls\u001b[39m._run_single_turn(\n\u001b[32m    228\u001b[39m             agent=current_agent,\n\u001b[32m    229\u001b[39m             all_tools=all_tools,\n\u001b[32m    230\u001b[39m             original_input=original_input,\n\u001b[32m    231\u001b[39m             generated_items=generated_items,\n\u001b[32m    232\u001b[39m             hooks=hooks,\n\u001b[32m    233\u001b[39m             context_wrapper=context_wrapper,\n\u001b[32m    234\u001b[39m             run_config=run_config,\n\u001b[32m    235\u001b[39m             should_run_agent_start_hooks=should_run_agent_start_hooks,\n\u001b[32m    236\u001b[39m             tool_use_tracker=tool_use_tracker,\n\u001b[32m    237\u001b[39m             previous_response_id=previous_response_id,\n\u001b[32m    238\u001b[39m         ),\n\u001b[32m    239\u001b[39m     )\n\u001b[32m    240\u001b[39m \u001b[38;5;28;01melse\u001b[39;00m:\n\u001b[32m    241\u001b[39m     turn_result = \u001b[38;5;28;01mawait\u001b[39;00m \u001b[38;5;28mcls\u001b[39m._run_single_turn(\n\u001b[32m    242\u001b[39m         agent=current_agent,\n\u001b[32m    243\u001b[39m         all_tools=all_tools,\n\u001b[32m   (...)\u001b[39m\u001b[32m    251\u001b[39m         previous_response_id=previous_response_id,\n\u001b[32m    252\u001b[39m     )\n",
      "\u001b[36mFile \u001b[39m\u001b[32m~/Desktop/agentic/.venv/lib/python3.12/site-packages/agents/run.py:884\u001b[39m, in \u001b[36mRunner._run_input_guardrails\u001b[39m\u001b[34m(cls, agent, guardrails, input, context)\u001b[39m\n\u001b[32m    877\u001b[39m         t.cancel()\n\u001b[32m    878\u001b[39m     _error_tracing.attach_error_to_current_span(\n\u001b[32m    879\u001b[39m         SpanError(\n\u001b[32m    880\u001b[39m             message=\u001b[33m\"\u001b[39m\u001b[33mGuardrail tripwire triggered\u001b[39m\u001b[33m\"\u001b[39m,\n\u001b[32m    881\u001b[39m             data={\u001b[33m\"\u001b[39m\u001b[33mguardrail\u001b[39m\u001b[33m\"\u001b[39m: result.guardrail.get_name()},\n\u001b[32m    882\u001b[39m         )\n\u001b[32m    883\u001b[39m     )\n\u001b[32m--> \u001b[39m\u001b[32m884\u001b[39m     \u001b[38;5;28;01mraise\u001b[39;00m InputGuardrailTripwireTriggered(result)\n\u001b[32m    885\u001b[39m \u001b[38;5;28;01melse\u001b[39;00m:\n\u001b[32m    886\u001b[39m     guardrail_results.append(result)\n",
      "\u001b[31mInputGuardrailTripwireTriggered\u001b[39m: Guardrail InputGuardrail triggered tripwire"
     ]
    }
   ],
   "source": [
    "careful_sales_manager = Agent(\n",
    "    name = 'Sales Manager',\n",
    "    instructions=sales_manager_instructions,\n",
    "    tools = tools,\n",
    "    handoffs=[emailer_agent],\n",
    "    model = gemini_model,\n",
    "    input_guardrails=[guardrail_against_name]\n",
    ")\n",
    "\n",
    "message = \"Send out a cold sales email addressed to Dear CEO from Dileep\"\n",
    "\n",
    "with trace('Protected Automated SDR'):\n",
    "    result = await Runner.run(careful_sales_manager, message)"
   ]
  },
  {
   "cell_type": "code",
   "execution_count": 43,
   "metadata": {},
   "outputs": [],
   "source": [
    "message = \"Send out a cold sales email addressed to Dear CEO from Head of Department\"\n",
    "with trace('Protaced Automated STD'):\n",
    "    result = await Runner.run(careful_sales_manager, message)"
   ]
  },
  {
   "cell_type": "code",
   "execution_count": null,
   "metadata": {},
   "outputs": [],
   "source": []
  }
 ],
 "metadata": {
  "kernelspec": {
   "display_name": ".venv",
   "language": "python",
   "name": "python3"
  },
  "language_info": {
   "codemirror_mode": {
    "name": "ipython",
    "version": 3
   },
   "file_extension": ".py",
   "mimetype": "text/x-python",
   "name": "python",
   "nbconvert_exporter": "python",
   "pygments_lexer": "ipython3",
   "version": "3.12.11"
  }
 },
 "nbformat": 4,
 "nbformat_minor": 2
}
