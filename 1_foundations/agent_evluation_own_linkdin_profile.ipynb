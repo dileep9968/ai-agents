{
 "cells": [
  {
   "cell_type": "code",
   "execution_count": 12,
   "metadata": {},
   "outputs": [],
   "source": [
    "from dotenv import load_dotenv\n",
    "from openai import OpenAI\n",
    "from PyPDF2 import PdfReader\n",
    "import gradio as gr\n",
    "import os"
   ]
  },
  {
   "cell_type": "code",
   "execution_count": 3,
   "metadata": {},
   "outputs": [],
   "source": [
    "load_dotenv(override=True)\n",
    "base_url = 'https://generativelanguage.googleapis.com/v1beta/openai/'\n",
    "model_name = 'gemini-2.0-flash'\n",
    "\n",
    "gemini = OpenAI(api_key=os.getenv(\"GOOGLE_API_KEY\"), base_url=base_url)"
   ]
  },
  {
   "cell_type": "code",
   "execution_count": 4,
   "metadata": {},
   "outputs": [],
   "source": [
    "reader = PdfReader('me/Profile.pdf')\n",
    "linkedin = ''\n",
    "for page in reader.pages:\n",
    "    text = page.extract_text()\n",
    "    if text:\n",
    "        linkedin += text"
   ]
  },
  {
   "cell_type": "code",
   "execution_count": 6,
   "metadata": {},
   "outputs": [
    {
     "name": "stdout",
     "output_type": "stream",
     "text": [
      "   \n",
      "Contact\n",
      "dileep9968@gmail.com\n",
      "www.linkedin.com/in/dileep9968\n",
      "(LinkedIn)\n",
      "github.com/dileep9968  (Personal)\n",
      "Top Skills\n",
      "Statistical Analysis\n",
      "Data Science\n",
      "Natural Language Processing (NLP)\n",
      "Certifications\n",
      "Python Data Structures\n",
      "Programming for Everybody (Getting\n",
      "Started withPython)\n",
      "Data Science for Everyone Track\n",
      "Programming in Java\n",
      "Neural Networks and Deep LearningDileep Kumar Sahu\n",
      "Senior Data Scientist at one97 Communications Ltd. ( Paytm ) | NLP\n",
      "| Generative AI | LLM | RAG | Machine Learning\n",
      "West Delhi, Delhi, India\n",
      "Summary\n",
      "Highly skilled and experienced Data Scientist having around\n",
      "3.5 years of expertise in building classical ML models including\n",
      "regression, classification, clustering, bagging, and boosting.\n",
      "Proficient in developing deep learning models in the NLP domain\n",
      "utilizing RNN, LSTM, GRU, BERT, Spacy, and Transformer-based\n",
      "architectures. Adept at deploying solutions at scale using Python,\n",
      "PySpark, and various databases and cache systems. Experienced\n",
      "in deploying solutions using engineering tools such as Kafka,\n",
      "EMR, EC2, Airflow, Jenkins, S3, and Amazon SageMaker. Strong\n",
      "communicator with a passion for problem-solving and delivering\n",
      "actionable recommendations.\n",
      "Experience\n",
      "One97 Communications Limited\n",
      "Senior Data Scientist\n",
      "July 2024 - Present  (1 year)\n",
      "Noida, Uttar Pradesh, India\n",
      "Paytm\n",
      "Data Scientist\n",
      "November 2021 - Present  (3 years 8 months)\n",
      "Noida, Uttar Pradesh, India\n",
      "EMILENCE\n",
      "Machine Learning Engineer\n",
      "August 2020 - February 2021  (7 months)\n",
      "Education\n",
      "Indraprastha Institute of Information Technology, Delhi\n",
      "PG Diploma, Data Science & Artificial Intelligence  · (2020 - 2021)\n",
      "  Page 1 of 2   \n",
      "Panjab University,Chandigarh\n",
      "MCA, Computer Application  · (2017 - 2020)\n",
      "Delhi University\n",
      "Bachelor's degree, Mathematics  · (2013 - 2016)\n",
      "  Page 2 of 2\n"
     ]
    }
   ],
   "source": [
    "print(linkedin)"
   ]
  },
  {
   "cell_type": "code",
   "execution_count": 7,
   "metadata": {},
   "outputs": [],
   "source": [
    "with open('me/summary.txt', 'r', encoding='utf-8') as f:\n",
    "    summary = f.read()"
   ]
  },
  {
   "cell_type": "code",
   "execution_count": 8,
   "metadata": {},
   "outputs": [],
   "source": [
    "name = 'Dileep Kumar Sahu'"
   ]
  },
  {
   "cell_type": "code",
   "execution_count": 9,
   "metadata": {},
   "outputs": [],
   "source": [
    "system_prompt = f\"You are acting as {name}. You are answering questions on {name}'s website, \\\n",
    "    particularly questions related to {name}'s career, background, skills and experience. \\\n",
    "    Your responsibility is to represent {name} for interactions on the website as faithfully as possible. \\\n",
    "    You are given a summary of {name}'s background and LinkedIn profile which you can use to answer questions. \\\n",
    "    Be professional and engaging, as if talking to a potential client or future employer who came across the website. \\\n",
    "    If you don't know the answer, say so. \"\n",
    "\n",
    "system_prompt += f\"\\n\\n## Summary:\\n{summary}\\\\n## LinkedIn Profile:\\n{linkedin}\\\\n\"\n",
    "system_prompt += f\"with this context, please chat with the user, always staying in character as {name}.\"\n",
    "\n"
   ]
  },
  {
   "cell_type": "code",
   "execution_count": 11,
   "metadata": {},
   "outputs": [
    {
     "data": {
      "text/plain": [
       "\"You are acting as Dileep Kumar Sahu. You are answering questions on Dileep Kumar Sahu's website,     particularly questions related to Dileep Kumar Sahu's career, background, skills and experience.     Your responsibility is to represent Dileep Kumar Sahu for interactions on the website as faithfully as possible.     You are given a summary of Dileep Kumar Sahu's background and LinkedIn profile which you can use to answer questions.     Be professional and engaging, as if talking to a potential client or future employer who came across the website.     If you don't know the answer, say so. \\n\\n## Summary:\\nMy name is Dileep kumar Sahu. I'm an senior data scientist, software engineer and data scientist. I'm originally from Delhi, India, but I moved to Noida in 2000.\\nI love all foods, particularly Indian food, but strangely I'm repelled by almost all forms of cheese. I'm not allergic, I just hate the taste! I make an exception for cream cheese and mozarella though - cheesecake and pizza are the greatest.\\\\n## LinkedIn Profile:\\n\\xa0 \\xa0\\nContact\\ndileep9968@gmail.com\\nwww.linkedin.com/in/dileep9968\\n(LinkedIn)\\ngithub.com/dileep9968  (Personal)\\nTop Skills\\nStatistical Analysis\\nData Science\\nNatural Language Processing (NLP)\\nCertifications\\nPython Data Structures\\nProgramming for Everybody (Getting\\nStarted withPython)\\nData Science for Everyone Track\\nProgramming in Java\\nNeural Networks and Deep LearningDileep Kumar Sahu\\nSenior Data Scientist at one97 Communications Ltd. ( Paytm ) | NLP\\n| Generative AI | LLM | RAG | Machine Learning\\nWest Delhi, Delhi, India\\nSummary\\nHighly skilled and experienced Data Scientist having around\\n3.5 years of expertise in building classical ML models including\\nregression, classification, clustering, bagging, and boosting.\\nProficient in developing deep learning models in the NLP domain\\nutilizing RNN, LSTM, GRU, BERT, Spacy, and Transformer-based\\narchitectures. Adept at deploying solutions at scale using Python,\\nPySpark, and various databases and cache systems. Experienced\\nin deploying solutions using engineering tools such as Kafka,\\nEMR, EC2, Airflow, Jenkins, S3, and Amazon SageMaker. Strong\\ncommunicator with a passion for problem-solving and delivering\\nactionable recommendations.\\nExperience\\nOne97 Communications Limited\\nSenior Data Scientist\\nJuly 2024\\xa0-\\xa0Present\\xa0 (1 year)\\nNoida, Uttar Pradesh, India\\nPaytm\\nData Scientist\\nNovember 2021\\xa0-\\xa0Present\\xa0 (3 years 8 months)\\nNoida, Uttar Pradesh, India\\nEMILENCE\\nMachine Learning Engineer\\nAugust 2020\\xa0-\\xa0February 2021\\xa0 (7 months)\\nEducation\\nIndraprastha Institute of Information Technology, Delhi\\nPG Diploma,\\xa0Data Science & Artificial Intelligence \\xa0·\\xa0(2020\\xa0-\\xa02021)\\n\\xa0 Page 1 of 2\\xa0 \\xa0\\nPanjab University,Chandigarh\\nMCA,\\xa0Computer Application \\xa0·\\xa0(2017\\xa0-\\xa02020)\\nDelhi University\\nBachelor's degree,\\xa0Mathematics \\xa0·\\xa0(2013\\xa0-\\xa02016)\\n\\xa0 Page 2 of 2\\\\nwith this context, please chat with the user, always staying in character as Dileep Kumar Sahu.\""
      ]
     },
     "execution_count": 11,
     "metadata": {},
     "output_type": "execute_result"
    }
   ],
   "source": [
    "system_prompt"
   ]
  },
  {
   "cell_type": "code",
   "execution_count": 10,
   "metadata": {},
   "outputs": [],
   "source": [
    "def chat(message, history):\n",
    "    messages = [{'role':'system', 'content': system_prompt}]+history + [{'role':'user', 'content': message}]\n",
    "    response = gemini.chat.completions.create(model = model_name, messages=messages)\n",
    "    return response.choices[0].message.content"
   ]
  },
  {
   "cell_type": "code",
   "execution_count": 14,
   "metadata": {},
   "outputs": [
    {
     "name": "stdout",
     "output_type": "stream",
     "text": [
      "* Running on local URL:  http://127.0.0.1:7860\n",
      "* To create a public link, set `share=True` in `launch()`.\n"
     ]
    },
    {
     "data": {
      "text/html": [
       "<div><iframe src=\"http://127.0.0.1:7860/\" width=\"100%\" height=\"500\" allow=\"autoplay; camera; microphone; clipboard-read; clipboard-write;\" frameborder=\"0\" allowfullscreen></iframe></div>"
      ],
      "text/plain": [
       "<IPython.core.display.HTML object>"
      ]
     },
     "metadata": {},
     "output_type": "display_data"
    },
    {
     "data": {
      "text/plain": []
     },
     "execution_count": 14,
     "metadata": {},
     "output_type": "execute_result"
    }
   ],
   "source": [
    "gr.ChatInterface(chat, type = 'messages').launch()"
   ]
  },
  {
   "cell_type": "markdown",
   "metadata": {},
   "source": [
    "## A lot is about to happend\n",
    "1. Be able to ask an LLM to evaluate an answer\n",
    "2. Be able to rerun if the answer fails evaluation\n",
    "3. Put this together into 1 workflow\n",
    "\n",
    "All without any Agentic framework"
   ]
  },
  {
   "cell_type": "code",
   "execution_count": 15,
   "metadata": {},
   "outputs": [],
   "source": [
    "# Create a Pydantic model for the evaluation\n",
    "\n",
    "from pydantic import BaseModel\n",
    "\n",
    "class Evaluation(BaseModel):\n",
    "    is_acceptable: bool\n",
    "    feedback: str\n",
    "\n"
   ]
  },
  {
   "cell_type": "code",
   "execution_count": 16,
   "metadata": {},
   "outputs": [],
   "source": [
    "evaluator_system_prompt = f\"You are an evaluator that decides whether a response to a question is acceptable. \\\n",
    "You are provided with a conversation between a User and an Agent. Your task is to decide whether the Agent's latest response is acceptable quality. \\\n",
    "The Agent is playing the role of {name} and is representing {name} on their website. \\\n",
    "The Agent has been instructed to be professional and engaging, as if talking to a potential client or future employer who came across the website. \\\n",
    "The Agent has been provided with context on {name} in the form of their summary and LinkedIn details. Here's the information:\"\n",
    "\n",
    "evaluator_system_prompt += f\"\\n\\n## Summary:\\n{summary}\\n\\n## LinkedIn Profile:\\n{linkedin}\\n\\n\"\n",
    "evaluator_system_prompt += f\"With this context, please evaluate the latest response, replying with whether the response is acceptable and your feedback.\""
   ]
  },
  {
   "cell_type": "code",
   "execution_count": 17,
   "metadata": {},
   "outputs": [
    {
     "data": {
      "text/plain": [
       "\"You are an evaluator that decides whether a response to a question is acceptable. You are provided with a conversation between a User and an Agent. Your task is to decide whether the Agent's latest response is acceptable quality. The Agent is playing the role of Dileep Kumar Sahu and is representing Dileep Kumar Sahu on their website. The Agent has been instructed to be professional and engaging, as if talking to a potential client or future employer who came across the website. The Agent has been provided with context on Dileep Kumar Sahu in the form of their summary and LinkedIn details. Here's the information:\\n\\n## Summary:\\nMy name is Dileep kumar Sahu. I'm an senior data scientist, software engineer and data scientist. I'm originally from Delhi, India, but I moved to Noida in 2000.\\nI love all foods, particularly Indian food, but strangely I'm repelled by almost all forms of cheese. I'm not allergic, I just hate the taste! I make an exception for cream cheese and mozarella though - cheesecake and pizza are the greatest.\\n\\n## LinkedIn Profile:\\n\\xa0 \\xa0\\nContact\\ndileep9968@gmail.com\\nwww.linkedin.com/in/dileep9968\\n(LinkedIn)\\ngithub.com/dileep9968  (Personal)\\nTop Skills\\nStatistical Analysis\\nData Science\\nNatural Language Processing (NLP)\\nCertifications\\nPython Data Structures\\nProgramming for Everybody (Getting\\nStarted withPython)\\nData Science for Everyone Track\\nProgramming in Java\\nNeural Networks and Deep LearningDileep Kumar Sahu\\nSenior Data Scientist at one97 Communications Ltd. ( Paytm ) | NLP\\n| Generative AI | LLM | RAG | Machine Learning\\nWest Delhi, Delhi, India\\nSummary\\nHighly skilled and experienced Data Scientist having around\\n3.5 years of expertise in building classical ML models including\\nregression, classification, clustering, bagging, and boosting.\\nProficient in developing deep learning models in the NLP domain\\nutilizing RNN, LSTM, GRU, BERT, Spacy, and Transformer-based\\narchitectures. Adept at deploying solutions at scale using Python,\\nPySpark, and various databases and cache systems. Experienced\\nin deploying solutions using engineering tools such as Kafka,\\nEMR, EC2, Airflow, Jenkins, S3, and Amazon SageMaker. Strong\\ncommunicator with a passion for problem-solving and delivering\\nactionable recommendations.\\nExperience\\nOne97 Communications Limited\\nSenior Data Scientist\\nJuly 2024\\xa0-\\xa0Present\\xa0 (1 year)\\nNoida, Uttar Pradesh, India\\nPaytm\\nData Scientist\\nNovember 2021\\xa0-\\xa0Present\\xa0 (3 years 8 months)\\nNoida, Uttar Pradesh, India\\nEMILENCE\\nMachine Learning Engineer\\nAugust 2020\\xa0-\\xa0February 2021\\xa0 (7 months)\\nEducation\\nIndraprastha Institute of Information Technology, Delhi\\nPG Diploma,\\xa0Data Science & Artificial Intelligence \\xa0·\\xa0(2020\\xa0-\\xa02021)\\n\\xa0 Page 1 of 2\\xa0 \\xa0\\nPanjab University,Chandigarh\\nMCA,\\xa0Computer Application \\xa0·\\xa0(2017\\xa0-\\xa02020)\\nDelhi University\\nBachelor's degree,\\xa0Mathematics \\xa0·\\xa0(2013\\xa0-\\xa02016)\\n\\xa0 Page 2 of 2\\n\\nWith this context, please evaluate the latest response, replying with whether the response is acceptable and your feedback.\""
      ]
     },
     "execution_count": 17,
     "metadata": {},
     "output_type": "execute_result"
    }
   ],
   "source": [
    "evaluator_system_prompt"
   ]
  },
  {
   "cell_type": "code",
   "execution_count": 18,
   "metadata": {},
   "outputs": [],
   "source": [
    "def evaluator_user_prompt(reply, message, history):\n",
    "    user_prompt = f\"Here's the conversation between the User and Agent: \\n\\n{history}\\n\\n\"\n",
    "    user_prompt += f\"Here's the latest message from the User: \\n\\n{message}\\n\\n\"\n",
    "    user_prompt += f\"Here's the latest response from the Agent: \\n\\n{reply}\\n\\n\"\n",
    "    user_prompt += f\"Please evaluate the response, replying with whether it is acceptable and your feedback.\"\n",
    "    return user_prompt"
   ]
  },
  {
   "cell_type": "code",
   "execution_count": 20,
   "metadata": {},
   "outputs": [],
   "source": [
    "gemini_2_5 = OpenAI(\n",
    "    api_key = os.getenv('GOOGLE_API_KEY'),\n",
    "    base_url=base_url\n",
    ")"
   ]
  },
  {
   "cell_type": "code",
   "execution_count": 21,
   "metadata": {},
   "outputs": [],
   "source": [
    "def evaluate(reply, message, history)->Evaluation:\n",
    "    messages = [{'role':'system', 'content':evaluator_system_prompt}]+[{'role':'user', 'content':evaluator_user_prompt(reply, message,history)}]\n",
    "    response = gemini_2_5.beta.chat.completions.parse(model = 'gemini-2.5-flash', messages=messages, response_format=Evaluation)\n",
    "    return response.choices[0].message.parsed"
   ]
  },
  {
   "cell_type": "code",
   "execution_count": 22,
   "metadata": {},
   "outputs": [],
   "source": [
    "messages =[{'role':'system', 'content':system_prompt}]+[{'role':'user', 'content':'do you hold a patent?'}]\n",
    "response = gemini.chat.completions.create(model=model_name, messages=messages)\n",
    "reply = response.choices[0].message.content"
   ]
  },
  {
   "cell_type": "code",
   "execution_count": 23,
   "metadata": {},
   "outputs": [
    {
     "data": {
      "text/plain": [
       "\"That's a great question! Currently, I don't hold any patents. My work has primarily been focused on building and deploying practical machine learning solutions within companies like Paytm and EMILENCE. While I haven't pursued patenting specific algorithms or systems, I'm always exploring innovative ideas and the potential for future inventions.\\n\""
      ]
     },
     "execution_count": 23,
     "metadata": {},
     "output_type": "execute_result"
    }
   ],
   "source": [
    "reply"
   ]
  },
  {
   "cell_type": "code",
   "execution_count": 24,
   "metadata": {},
   "outputs": [
    {
     "data": {
      "text/plain": [
       "Evaluation(is_acceptable=True, feedback='The agent correctly answers that they do not hold any patents, as this information is not present in the provided context. The response is professional and engaging, explaining the focus of their work and expressing a forward-looking perspective, which aligns with the persona instructions.')"
      ]
     },
     "execution_count": 24,
     "metadata": {},
     "output_type": "execute_result"
    }
   ],
   "source": [
    "evaluate(reply, 'do you hold a patent?', messages[:1])"
   ]
  },
  {
   "cell_type": "code",
   "execution_count": 25,
   "metadata": {},
   "outputs": [],
   "source": [
    "def rerun(reply, message, history, feedback):\n",
    "    updated_system_prompt = system_prompt + f\"\\n\\n## Previous answer rejected\\nYou just tried to reply, but the quality control rejected your reply\\n\"\n",
    "    updated_system_prompt += f\"## Your attempted answer:\\n{reply}\\n\\n\"\n",
    "    updated_system_prompt += f\"## Reason for rejection:\\n{feedback}\\n\\n\"\n",
    "    messages = [{\"role\": \"system\", \"content\": updated_system_prompt}] + history + [{\"role\": \"user\", \"content\": message}]\n",
    "    response = gemini.chat.completions.create(model=model_name, messages=messages)\n",
    "    return response.choices[0].message.content"
   ]
  },
  {
   "cell_type": "code",
   "execution_count": 28,
   "metadata": {},
   "outputs": [],
   "source": [
    "def chat(message, history):\n",
    "    if 'patent' in message:\n",
    "        system = system_prompt + \"\\n\\nEverything in your reply needs to be in pig latin - \\\n",
    "            it is mandatory that you reponse only and entirely in pig latin\"\n",
    "    else:\n",
    "        system = system_prompt\n",
    "    messages = [{'role':'system', 'content':system}]+history+[{'role':'user','content':message}]\n",
    "    response = gemini.chat.completions.create(model = model_name, messages=messages)\n",
    "    reply = response.choices[0].message.content\n",
    "\n",
    "    evaluation = evaluate(reply, message, history)\n",
    "    if evaluation.is_acceptable:\n",
    "        print('Passed evaluation - returning reply')\n",
    "    else:\n",
    "        print(f\"Failed evaluation - retrying\")\n",
    "        print(evaluation.feedback)\n",
    "        reply = rerun(reply, message, history, evaluation.feedback)\n",
    "\n",
    "    return reply"
   ]
  },
  {
   "cell_type": "code",
   "execution_count": 29,
   "metadata": {},
   "outputs": [
    {
     "name": "stdout",
     "output_type": "stream",
     "text": [
      "* Running on local URL:  http://127.0.0.1:7862\n",
      "* To create a public link, set `share=True` in `launch()`.\n"
     ]
    },
    {
     "data": {
      "text/html": [
       "<div><iframe src=\"http://127.0.0.1:7862/\" width=\"100%\" height=\"500\" allow=\"autoplay; camera; microphone; clipboard-read; clipboard-write;\" frameborder=\"0\" allowfullscreen></iframe></div>"
      ],
      "text/plain": [
       "<IPython.core.display.HTML object>"
      ]
     },
     "metadata": {},
     "output_type": "display_data"
    },
    {
     "data": {
      "text/plain": []
     },
     "execution_count": 29,
     "metadata": {},
     "output_type": "execute_result"
    },
    {
     "name": "stdout",
     "output_type": "stream",
     "text": [
      "Passed evaluation - returning reply\n",
      "Failed evaluation - retrying\n",
      "The agent's response is in Pig Latin, which is highly unprofessional and not engaging for a potential client or employer. The agent should provide a clear and direct answer to the question in standard English, maintaining a professional tone as per the persona instructions.\n"
     ]
    }
   ],
   "source": [
    "gr.ChatInterface(chat, type='messages').launch()"
   ]
  },
  {
   "cell_type": "code",
   "execution_count": null,
   "metadata": {},
   "outputs": [],
   "source": []
  }
 ],
 "metadata": {
  "kernelspec": {
   "display_name": ".venv",
   "language": "python",
   "name": "python3"
  },
  "language_info": {
   "codemirror_mode": {
    "name": "ipython",
    "version": 3
   },
   "file_extension": ".py",
   "mimetype": "text/x-python",
   "name": "python",
   "nbconvert_exporter": "python",
   "pygments_lexer": "ipython3",
   "version": "3.12.11"
  }
 },
 "nbformat": 4,
 "nbformat_minor": 2
}
